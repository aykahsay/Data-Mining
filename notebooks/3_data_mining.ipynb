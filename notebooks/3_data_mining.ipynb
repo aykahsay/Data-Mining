{
 "cells": [
  {
   "cell_type": "markdown",
   "id": "bf4f4d84-c27d-464e-8286-30f3a2b63f47",
   "metadata": {},
   "source": [
    "# Data Mining"
   ]
  },
  {
   "cell_type": "markdown",
   "id": "caed1156-6288-4f3a-95f6-c3107e9b5726",
   "metadata": {},
   "source": [
    "## Preamble"
   ]
  },
  {
   "cell_type": "markdown",
   "id": "e3d192b1-7c98-43a6-b3a4-957fb18bec0f",
   "metadata": {},
   "source": [
    "### Modules and Functions"
   ]
  },
  {
   "cell_type": "markdown",
   "id": "de557d52-ef78-4404-91cf-312d438f4b2e",
   "metadata": {},
   "source": [
    "### Configuration"
   ]
  },
  {
   "cell_type": "markdown",
   "id": "8883e6a6-b603-4070-a2a6-05d802dcb57a",
   "metadata": {},
   "source": [
    "## Market Basket Analysis"
   ]
  },
  {
   "cell_type": "markdown",
   "id": "e5015d96-56fb-41b0-a8f4-0ca1c8a390e2",
   "metadata": {},
   "source": [
    "## Clustering"
   ]
  },
  {
   "cell_type": "markdown",
   "id": "f8d4ebe9-5c42-435a-be20-6ff626dedc08",
   "metadata": {},
   "source": [
    "## Classification"
   ]
  },
  {
   "cell_type": "markdown",
   "id": "721f9847-81bb-4af6-bb96-c1cf988fe83f",
   "metadata": {},
   "source": [
    "## Time Series"
   ]
  }
 ],
 "metadata": {
  "kernelspec": {
   "display_name": "Python 3 (ipykernel)",
   "language": "python",
   "name": "python3"
  },
  "language_info": {
   "codemirror_mode": {
    "name": "ipython",
    "version": 3
   },
   "file_extension": ".py",
   "mimetype": "text/x-python",
   "name": "python",
   "nbconvert_exporter": "python",
   "pygments_lexer": "ipython3",
   "version": "3.12.3"
  }
 },
 "nbformat": 4,
 "nbformat_minor": 5
}
